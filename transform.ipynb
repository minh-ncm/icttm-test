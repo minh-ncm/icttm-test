{
 "cells": [
  {
   "cell_type": "markdown",
   "metadata": {},
   "source": [
    "This file will be used to contain data processing components"
   ]
  },
  {
   "cell_type": "code",
   "execution_count": 1,
   "metadata": {},
   "outputs": [
    {
     "name": "stdout",
     "output_type": "stream",
     "text": [
      "Requirement already satisfied: boto3 in ./venv/lib/python3.11/site-packages (1.34.71)\n",
      "Requirement already satisfied: pyspark in ./venv/lib/python3.11/site-packages (3.5.1)\n",
      "Requirement already satisfied: delta-spark in ./venv/lib/python3.11/site-packages (3.1.0)\n",
      "Requirement already satisfied: python-dotenv in ./venv/lib/python3.11/site-packages (1.0.1)\n",
      "Requirement already satisfied: pandas in ./venv/lib/python3.11/site-packages (2.2.1)\n",
      "Requirement already satisfied: botocore<1.35.0,>=1.34.71 in ./venv/lib/python3.11/site-packages (from boto3) (1.34.71)\n",
      "Requirement already satisfied: jmespath<2.0.0,>=0.7.1 in ./venv/lib/python3.11/site-packages (from boto3) (1.0.1)\n",
      "Requirement already satisfied: s3transfer<0.11.0,>=0.10.0 in ./venv/lib/python3.11/site-packages (from boto3) (0.10.1)\n",
      "Requirement already satisfied: py4j==0.10.9.7 in ./venv/lib/python3.11/site-packages (from pyspark) (0.10.9.7)\n",
      "Requirement already satisfied: importlib-metadata>=1.0.0 in ./venv/lib/python3.11/site-packages (from delta-spark) (7.1.0)\n",
      "Requirement already satisfied: numpy<2,>=1.23.2 in ./venv/lib/python3.11/site-packages (from pandas) (1.26.4)\n",
      "Requirement already satisfied: python-dateutil>=2.8.2 in ./venv/lib/python3.11/site-packages (from pandas) (2.9.0.post0)\n",
      "Requirement already satisfied: pytz>=2020.1 in ./venv/lib/python3.11/site-packages (from pandas) (2024.1)\n",
      "Requirement already satisfied: tzdata>=2022.7 in ./venv/lib/python3.11/site-packages (from pandas) (2024.1)\n",
      "Requirement already satisfied: urllib3!=2.2.0,<3,>=1.25.4 in ./venv/lib/python3.11/site-packages (from botocore<1.35.0,>=1.34.71->boto3) (2.2.1)\n",
      "Requirement already satisfied: zipp>=0.5 in ./venv/lib/python3.11/site-packages (from importlib-metadata>=1.0.0->delta-spark) (3.18.1)\n",
      "Requirement already satisfied: six>=1.5 in ./venv/lib/python3.11/site-packages (from python-dateutil>=2.8.2->pandas) (1.16.0)\n",
      "\n",
      "\u001b[1m[\u001b[0m\u001b[34;49mnotice\u001b[0m\u001b[1;39;49m]\u001b[0m\u001b[39;49m A new release of pip is available: \u001b[0m\u001b[31;49m23.3.2\u001b[0m\u001b[39;49m -> \u001b[0m\u001b[32;49m24.0\u001b[0m\n",
      "\u001b[1m[\u001b[0m\u001b[34;49mnotice\u001b[0m\u001b[1;39;49m]\u001b[0m\u001b[39;49m To update, run: \u001b[0m\u001b[32;49mpip install --upgrade pip\u001b[0m\n",
      "Note: you may need to restart the kernel to use updated packages.\n"
     ]
    }
   ],
   "source": [
    "%pip install boto3 pyspark delta-spark python-dotenv pandas"
   ]
  },
  {
   "cell_type": "code",
   "execution_count": 2,
   "metadata": {},
   "outputs": [
    {
     "data": {
      "text/plain": [
       "True"
      ]
     },
     "execution_count": 2,
     "metadata": {},
     "output_type": "execute_result"
    }
   ],
   "source": [
    "import boto3\n",
    "import glob\n",
    "import os\n",
    "from pyspark.sql import SparkSession, functions as F\n",
    "from dotenv import load_dotenv\n",
    "\n",
    "load_dotenv()"
   ]
  },
  {
   "cell_type": "code",
   "execution_count": 3,
   "metadata": {},
   "outputs": [],
   "source": [
    "# You can use the following to set the environment variables in the notebook if you don't set manually access key, secret key and endpoint in minio\n",
    "# os.environ['OBJ_STORAGE_ACCESS_KEY'] = ''\n",
    "# os.environ['OBJ_STORAGE_SECRET_KEY'] = ''\n",
    "# os.environ['OBJ_STORAGE_ENDPOINT'] = ''"
   ]
  },
  {
   "cell_type": "code",
   "execution_count": 4,
   "metadata": {},
   "outputs": [],
   "source": [
    "# Define S3 storage\n",
    "obj_storage_access_key = os.getenv('OBJ_STORAGE_ACCESS_KEY')\n",
    "obj_storage_secret_key = os.getenv('OBJ_STORAGE_SECRET_KEY')\n",
    "obj_storage_endpoint = os.getenv('OBJ_STORAGE_ENDPOINT', 'http://localhost:9000')"
   ]
  },
  {
   "cell_type": "code",
   "execution_count": 5,
   "metadata": {},
   "outputs": [],
   "source": [
    "path_1 = \"s3a://data/data-raw/data.json\"\n",
    "path_2 = \"s3a://data/data-raw/data2.json\"\n",
    "path_3 = \"s3a://data/data-raw/data3.json\""
   ]
  },
  {
   "cell_type": "code",
   "execution_count": 6,
   "metadata": {},
   "outputs": [
    {
     "name": "stderr",
     "output_type": "stream",
     "text": [
      "your 131072x1 screen size is bogus. expect trouble\n"
     ]
    },
    {
     "name": "stderr",
     "output_type": "stream",
     "text": [
      "Warning: Ignoring non-Spark config property: fs.s3a.endpoint\n",
      "Warning: Ignoring non-Spark config property: fs.s3a.impl\n",
      "Warning: Ignoring non-Spark config property: fs.s3a.access.key\n",
      "Warning: Ignoring non-Spark config property: fs.s3a.path.style.access\n",
      "Warning: Ignoring non-Spark config property: fs.s3a.connection.ssl.enabled\n",
      "Warning: Ignoring non-Spark config property: fs.s3a.secret.key\n",
      "24/03/27 12:31:05 WARN Utils: Your hostname, minhnguyen resolves to a loopback address: 127.0.1.1; using 172.27.104.248 instead (on interface eth0)\n",
      "24/03/27 12:31:05 WARN Utils: Set SPARK_LOCAL_IP if you need to bind to another address\n",
      "Setting default log level to \"WARN\".\n",
      "To adjust logging level use sc.setLogLevel(newLevel). For SparkR, use setLogLevel(newLevel).\n",
      "24/03/27 12:31:06 WARN NativeCodeLoader: Unable to load native-hadoop library for your platform... using builtin-java classes where applicable\n"
     ]
    }
   ],
   "source": [
    "# You need to more configuration if you want to use minio as object storage \n",
    "# (hint: maybe you can using .config() method to set the configuration if you want using spark to read/write data from/to minio)\n",
    "spark = SparkSession \\\n",
    "    .builder \\\n",
    "    .appName(\"Python Spark SQL basic example\") \\\n",
    "    .config(\"fs.s3a.access.key\", obj_storage_access_key) \\\n",
    "    .config(\"fs.s3a.secret.key\", obj_storage_secret_key) \\\n",
    "    .config(\"fs.s3a.endpoint\", obj_storage_endpoint) \\\n",
    "    .config(\"fs.s3a.path.style.access\", \"true\") \\\n",
    "    .config(\"fs.s3a.connection.ssl.enabled\", \"false\") \\\n",
    "    .config(\"fs.s3a.impl\", \"org.apache.hadoop.fs.s3a.S3AFileSystem\") \\\n",
    "    .config(\"fs.s3a.connection.ssl.enabled\", \"false\") \\\n",
    "    .getOrCreate()"
   ]
  },
  {
   "cell_type": "code",
   "execution_count": 7,
   "metadata": {},
   "outputs": [],
   "source": [
    "# Function to upload file to minio\n",
    "def upload_file_to_minio(file_path, minio_bucket, minio_object_name):\n",
    "    s3c = boto3.resource('s3',\n",
    "                        endpoint_url=obj_storage_endpoint,\n",
    "                        aws_access_key_id=obj_storage_access_key,\n",
    "                        aws_secret_access_key=obj_storage_secret_key,\n",
    "                        config=boto3.session.Config(signature_version='s3v4'),\n",
    "                        verify=False\n",
    "                        )\n",
    "    s3c.Bucket(minio_bucket).upload_file(file_path, minio_object_name)"
   ]
  },
  {
   "cell_type": "code",
   "execution_count": 8,
   "metadata": {},
   "outputs": [
    {
     "name": "stderr",
     "output_type": "stream",
     "text": [
      "24/03/27 12:31:12 WARN MetricsConfig: Cannot locate configuration: tried hadoop-metrics2-s3a-file-system.properties,hadoop-metrics2.properties\n",
      "                                                                                \r"
     ]
    }
   ],
   "source": [
    "# Read input data\n",
    "df_1 = spark.read.json(path_1, multiLine=True)\n",
    "df_2 = spark.read.json(path_2, multiLine=True)\n",
    "df_3 = spark.read.json(path_3, multiLine=True)\n",
    "\n",
    "# Merge data\n",
    "df = df_1.union(df_2).union(df_3)\n",
    "\n",
    "# Upload merged result to minio\n",
    "OUTPUT_DIR = \"data/result\"\n",
    "df.coalesce(1).write.mode(\"overwrite\").json(OUTPUT_DIR) # write output as a single file\n",
    "file_paths = glob.glob(f\"{OUTPUT_DIR}/*.json\")\n",
    "if file_paths:\n",
    "    upload_file_to_minio(file_paths[0], 'data', 'data-result/result.json')"
   ]
  },
  {
   "cell_type": "code",
   "execution_count": 9,
   "metadata": {},
   "outputs": [
    {
     "name": "stdout",
     "output_type": "stream",
     "text": [
      "Total records: 19\n",
      "+--------------------+--------------------+----+-------------------+----+--------------------+-----+\n",
      "|             batters|             filling|  id|               name| ppu|             topping| type|\n",
      "+--------------------+--------------------+----+-------------------+----+--------------------+-----+\n",
      "|{[{1001, Regular}...|                NULL|0004|              Jelly|0.65|[{5001, None}, {5...|donut|\n",
      "|{[{1001, Regular}...|                NULL|0004|              Jelly|0.65|[{5001, None}, {5...|donut|\n",
      "|{[{1001, Regular}...|                NULL|0005|     Custard-Filled|0.75|[{5001, None}, {5...|donut|\n",
      "|{[{1001, Regular}...|[{6001, None}, {6...|0006|     Cinnamon Twist|0.85|[{5001, None}, {5...|donut|\n",
      "|{[{1001, Regular}...|                NULL|0007|    Vanilla Frosted|0.75|[{5001, None}, {5...|donut|\n",
      "|{[{1001, Regular}...|                NULL|0008| Strawberry Frosted|0.85|[{5001, None}, {5...|donut|\n",
      "|{[{1001, Regular}...|                NULL|0009|     Chocolate Cake|0.75|[{5001, None}, {5...|donut|\n",
      "|{[{1001, Regular}...|                NULL|0010|     Blueberry Cake|0.55|[{5001, None}, {5...|donut|\n",
      "|{[{1001, Regular}...|                NULL|0011|  Devil's Food Cake|0.75|[{5001, None}, {5...|donut|\n",
      "|{[{1001, Regular}...|                NULL|0012|        Jelly Donut|0.65|[{5001, None}, {5...|donut|\n",
      "| {[{1001, Regular}]}|                NULL|0013|       Raised Donut|0.55|[{5001, None}, {5...|donut|\n",
      "|{[{1001, Regular}...|                NULL|0014|Old Fashioned Donut|0.75|[{5001, None}, {5...|donut|\n",
      "| {[{1001, Regular}]}|                NULL|0015|            Cruller|0.85|[{5001, None}, {5...|donut|\n",
      "|{[{1001, Regular}...|[{6001, None}, {6...|0016|       Filled Donut|0.95|[{5001, None}, {5...|donut|\n",
      "|{[{1001, Regular}...|                NULL|0017|      Old Fashioned|0.65|[{5001, None}, {5...|donut|\n",
      "| {[{1001, Regular}]}|                NULL|0018|            Regular|0.55|[{5001, None}, {5...|donut|\n",
      "| {[{1001, Regular}]}|[{6001, None}, {6...|0019|          Blueberry|0.75|[{5002, Glazed}, ...|donut|\n",
      "| {[{1001, Regular}]}|                NULL|0020|       Devil's Food|0.75|[{5002, Glazed}, ...|donut|\n",
      "|{[{1001, Regular}...|                NULL|0021|      Vanilla Cream|0.75|[{5002, Glazed}, ...|donut|\n",
      "+--------------------+--------------------+----+-------------------+----+--------------------+-----+\n",
      "\n"
     ]
    }
   ],
   "source": [
    "# Read and show merged result\n",
    "result_df = spark.read.json(\"s3a://data/data-result/result.json\")\n",
    "print(\"Total records:\", result_df.count())\n",
    "result_df.orderBy(\"id\").show()"
   ]
  },
  {
   "cell_type": "code",
   "execution_count": 10,
   "metadata": {},
   "outputs": [
    {
     "name": "stderr",
     "output_type": "stream",
     "text": [
      "                                                                                \r"
     ]
    },
    {
     "name": "stdout",
     "output_type": "stream",
     "text": [
      "Total records: 18\n",
      "+--------------------+--------------------+----+-------------------+----+--------------------+-----+\n",
      "|             batters|             filling|  id|               name| ppu|             topping| type|\n",
      "+--------------------+--------------------+----+-------------------+----+--------------------+-----+\n",
      "|{[{1001, Regular}...|                NULL|0004|              Jelly|0.65|[{5001, None}, {5...|donut|\n",
      "|{[{1001, Regular}...|                NULL|0005|     Custard-Filled|0.75|[{5001, None}, {5...|donut|\n",
      "|{[{1001, Regular}...|[{6001, None}, {6...|0006|     Cinnamon Twist|0.85|[{5001, None}, {5...|donut|\n",
      "|{[{1001, Regular}...|                NULL|0007|    Vanilla Frosted|0.75|[{5001, None}, {5...|donut|\n",
      "|{[{1001, Regular}...|                NULL|0008| Strawberry Frosted|0.85|[{5001, None}, {5...|donut|\n",
      "|{[{1001, Regular}...|                NULL|0009|     Chocolate Cake|0.75|[{5001, None}, {5...|donut|\n",
      "|{[{1001, Regular}...|                NULL|0010|     Blueberry Cake|0.55|[{5001, None}, {5...|donut|\n",
      "|{[{1001, Regular}...|                NULL|0011|  Devil's Food Cake|0.75|[{5001, None}, {5...|donut|\n",
      "|{[{1001, Regular}...|                NULL|0012|        Jelly Donut|0.65|[{5001, None}, {5...|donut|\n",
      "| {[{1001, Regular}]}|                NULL|0013|       Raised Donut|0.55|[{5001, None}, {5...|donut|\n",
      "|{[{1001, Regular}...|                NULL|0014|Old Fashioned Donut|0.75|[{5001, None}, {5...|donut|\n",
      "| {[{1001, Regular}]}|                NULL|0015|            Cruller|0.85|[{5001, None}, {5...|donut|\n",
      "|{[{1001, Regular}...|[{6001, None}, {6...|0016|       Filled Donut|0.95|[{5001, None}, {5...|donut|\n",
      "|{[{1001, Regular}...|                NULL|0017|      Old Fashioned|0.65|[{5001, None}, {5...|donut|\n",
      "| {[{1001, Regular}]}|                NULL|0018|            Regular|0.55|[{5001, None}, {5...|donut|\n",
      "| {[{1001, Regular}]}|[{6001, None}, {6...|0019|          Blueberry|0.75|[{5002, Glazed}, ...|donut|\n",
      "| {[{1001, Regular}]}|                NULL|0020|       Devil's Food|0.75|[{5002, Glazed}, ...|donut|\n",
      "|{[{1001, Regular}...|                NULL|0021|      Vanilla Cream|0.75|[{5002, Glazed}, ...|donut|\n",
      "+--------------------+--------------------+----+-------------------+----+--------------------+-----+\n",
      "\n"
     ]
    }
   ],
   "source": [
    "# Remove duplicate and show result\n",
    "distinct_result_df = result_df.distinct()\n",
    "print(\"Total records:\", distinct_result_df.count())\n",
    "distinct_result_df.orderBy(\"id\").show()"
   ]
  }
 ],
 "metadata": {
  "kernelspec": {
   "display_name": ".venv",
   "language": "python",
   "name": "python3"
  },
  "language_info": {
   "codemirror_mode": {
    "name": "ipython",
    "version": 3
   },
   "file_extension": ".py",
   "mimetype": "text/x-python",
   "name": "python",
   "nbconvert_exporter": "python",
   "pygments_lexer": "ipython3",
   "version": "3.11.2"
  }
 },
 "nbformat": 4,
 "nbformat_minor": 2
}
